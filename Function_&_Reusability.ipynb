{
  "nbformat": 4,
  "nbformat_minor": 0,
  "metadata": {
    "colab": {
      "provenance": [],
      "authorship_tag": "ABX9TyOR+3TdPoUnDqGuXNP9Jmrq",
      "include_colab_link": true
    },
    "kernelspec": {
      "name": "python3",
      "display_name": "Python 3"
    },
    "language_info": {
      "name": "python"
    }
  },
  "cells": [
    {
      "cell_type": "markdown",
      "metadata": {
        "id": "view-in-github",
        "colab_type": "text"
      },
      "source": [
        "<a href=\"https://colab.research.google.com/github/marbahi/Samsung-Inovation-Campus---Batch-7/blob/main/Function_%26_Reusability.ipynb\" target=\"_parent\"><img src=\"https://colab.research.google.com/assets/colab-badge.svg\" alt=\"Open In Colab\"/></a>"
      ]
    },
    {
      "cell_type": "markdown",
      "source": [
        "# **Muhammad 'Ammar Bahi**\n",
        "\n",
        "UPN \"Veteran\" Jakarta\n",
        "\n",
        "Veteran Code"
      ],
      "metadata": {
        "id": "-nniQEljyzk9"
      }
    },
    {
      "cell_type": "markdown",
      "source": [],
      "metadata": {
        "id": "AhZUAqkzBrc8"
      }
    },
    {
      "cell_type": "code",
      "execution_count": null,
      "metadata": {
        "id": "2ijI-2MjysYu"
      },
      "outputs": [],
      "source": []
    }
  ]
}