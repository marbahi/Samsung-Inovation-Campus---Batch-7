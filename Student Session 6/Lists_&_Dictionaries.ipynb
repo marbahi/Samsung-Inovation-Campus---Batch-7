{
  "nbformat": 4,
  "nbformat_minor": 0,
  "metadata": {
    "colab": {
      "provenance": [],
      "authorship_tag": "ABX9TyPgevy1J2v/R1d0ZFMLF7n1",
      "include_colab_link": true
    },
    "kernelspec": {
      "name": "python3",
      "display_name": "Python 3"
    },
    "language_info": {
      "name": "python"
    }
  },
  "cells": [
    {
      "cell_type": "markdown",
      "metadata": {
        "id": "view-in-github",
        "colab_type": "text"
      },
      "source": [
        "<a href=\"https://colab.research.google.com/github/marbahi/Samsung-Inovation-Campus---Batch-7/blob/main/Lists_%26_Dictionaries.ipynb\" target=\"_parent\"><img src=\"https://colab.research.google.com/assets/colab-badge.svg\" alt=\"Open In Colab\"/></a>"
      ]
    },
    {
      "cell_type": "code",
      "execution_count": null,
      "metadata": {
        "id": "vwyQfh6lNiQ0"
      },
      "outputs": [],
      "source": [
        "nama_siswa = ['Ahmad', 'Rohan', 'Malik', 'Budi', 'Adi', 'Siti', 'Ita']"
      ]
    },
    {
      "cell_type": "code",
      "source": [
        "nilai_siswa = {\n",
        "    'Ahmad':93,\n",
        "    'Rohan':92,\n",
        "    'Malik':90,\n",
        "    'Budi':89,\n",
        "    'Adi':91,\n",
        "    'Siti':95,\n",
        "    'Ita':86\n",
        "}"
      ],
      "metadata": {
        "id": "I1F-JBEyOEzu"
      },
      "execution_count": null,
      "outputs": []
    },
    {
      "cell_type": "code",
      "source": [
        "nama_siswa.append('Santoso')\n",
        "nama_siswa.remove('Malik')\n",
        "print(nama_siswa)"
      ],
      "metadata": {
        "colab": {
          "base_uri": "https://localhost:8080/"
        },
        "id": "oTbwa2xyXTGw",
        "outputId": "c2c2c8c6-7cec-4f2e-b512-81df96529c68"
      },
      "execution_count": null,
      "outputs": [
        {
          "output_type": "stream",
          "name": "stdout",
          "text": [
            "['Ahmad', 'Rohan', 'Budi', 'Adi', 'Siti', 'Ita', 'Santoso']\n"
          ]
        }
      ]
    },
    {
      "cell_type": "code",
      "source": [
        "print(nama_siswa[0])\n",
        "print(nama_siswa[len(nama_siswa) - 1])\n",
        "print(nama_siswa[-3:])"
      ],
      "metadata": {
        "colab": {
          "base_uri": "https://localhost:8080/"
        },
        "id": "b-zMV1URX5Jz",
        "outputId": "c85f2212-6ae4-4d75-b949-9e5102869704"
      },
      "execution_count": null,
      "outputs": [
        {
          "output_type": "stream",
          "name": "stdout",
          "text": [
            "Ahmad\n",
            "Santoso\n",
            "['Siti', 'Ita', 'Santoso']\n"
          ]
        }
      ]
    },
    {
      "cell_type": "code",
      "source": [
        "print(\"Mencetak nama siswa dengan index masing-masing\")\n",
        "for i in range(len(nama_siswa)):\n",
        "  print(f'Index {i} -> {nama_siswa[i]}')"
      ],
      "metadata": {
        "colab": {
          "base_uri": "https://localhost:8080/"
        },
        "id": "rpL4L7W3ZJO4",
        "outputId": "9d9bc0ea-1f71-4b52-e030-6c4b3ee2ef92"
      },
      "execution_count": null,
      "outputs": [
        {
          "output_type": "stream",
          "name": "stdout",
          "text": [
            "Mencetak nama siswa dengan index masing-masing\n",
            "Index 0 -> Ahmad\n",
            "Index 1 -> Rohan\n",
            "Index 2 -> Budi\n",
            "Index 3 -> Adi\n",
            "Index 4 -> Siti\n",
            "Index 5 -> Ita\n",
            "Index 6 -> Santoso\n"
          ]
        }
      ]
    },
    {
      "cell_type": "code",
      "source": [
        "nilai_siswa['Budi'] = 91\n",
        "nilai_siswa.pop('Malik')\n",
        "print(nilai_siswa)"
      ],
      "metadata": {
        "colab": {
          "base_uri": "https://localhost:8080/"
        },
        "id": "gPDBG7tYZoaT",
        "outputId": "fe32ee41-104e-4303-85a0-2bde7021ba8c"
      },
      "execution_count": null,
      "outputs": [
        {
          "output_type": "stream",
          "name": "stdout",
          "text": [
            "{'Ahmad': 93, 'Rohan': 92, 'Budi': 91, 'Adi': 91, 'Siti': 95, 'Ita': 86}\n"
          ]
        }
      ]
    },
    {
      "cell_type": "code",
      "source": [
        "nilai_siswa['Agus'] = nilai_siswa.pop('Rohan')\n",
        "print(nilai_siswa)"
      ],
      "metadata": {
        "colab": {
          "base_uri": "https://localhost:8080/"
        },
        "id": "r4HVEnATaF_m",
        "outputId": "da201c2f-b451-4339-f08e-ad9fef6d6571"
      },
      "execution_count": null,
      "outputs": [
        {
          "output_type": "stream",
          "name": "stdout",
          "text": [
            "{'Ahmad': 93, 'Budi': 91, 'Adi': 91, 'Siti': 95, 'Ita': 86, 'Agus': 92}\n"
          ]
        }
      ]
    }
  ]
}