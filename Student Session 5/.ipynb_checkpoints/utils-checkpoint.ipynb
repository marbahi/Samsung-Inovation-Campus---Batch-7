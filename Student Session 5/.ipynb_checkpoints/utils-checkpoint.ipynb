{
 "cells": [
  {
   "cell_type": "code",
   "execution_count": null,
   "id": "d0c4e387-1ca3-47bf-94cb-8626372d6edf",
   "metadata": {},
   "outputs": [],
   "source": [
    "def konversi_suhu (nilai, dari, ke):\n",
    "    if (dari != \"C\" and dari != \"F\" and dari != \"K\"):\n",
    "      return \"Masukkan satuan suhu yang benar\"\n",
    "    elif (ke != \"C\" and ke != \"F\" and ke != \"K\"):\n",
    "      return \"Masukkan satuan suhu yang benar\"\n",
    "    elif (nilai < 0 and dari == \"k\"):\n",
    "      return \"satuan Kelvin tidak boleh bersifat negatif\"\n",
    "\n",
    "    if (dari == \"C\"):\n",
    "      if (ke == \"F\"):\n",
    "        return (nilai * 9/5) + 32\n",
    "      elif (ke == \"K\"):\n",
    "        return nilai + 273.15\n",
    "    elif (dari == \"F\"):\n",
    "      if (ke == \"C\"):\n",
    "        return (nilai - 32) * 5/9\n",
    "      elif (ke == \"K\"):\n",
    "        return (nilai - 32) * 5/9 + 273.15\n",
    "    elif (dari == \"K\"):\n",
    "      if (ke == \"C\"):\n",
    "        return nilai - 273.15\n",
    "      elif (ke == \"F\"):\n",
    "        return (nilai - 273.15) * 9/5 + 32"
   ]
  }
 ],
 "metadata": {
  "kernelspec": {
   "display_name": "Python 3 (ipykernel)",
   "language": "python",
   "name": "python3"
  },
  "language_info": {
   "codemirror_mode": {
    "name": "ipython",
    "version": 3
   },
   "file_extension": ".py",
   "mimetype": "text/x-python",
   "name": "python",
   "nbconvert_exporter": "python",
   "pygments_lexer": "ipython3",
   "version": "3.9.19"
  }
 },
 "nbformat": 4,
 "nbformat_minor": 5
}
