{
  "nbformat": 4,
  "nbformat_minor": 0,
  "metadata": {
    "colab": {
      "provenance": [],
      "authorship_tag": "ABX9TyM7TkPI6ka0udcfhF4ps91q",
      "include_colab_link": true
    },
    "kernelspec": {
      "name": "python3",
      "display_name": "Python 3"
    },
    "language_info": {
      "name": "python"
    }
  },
  "cells": [
    {
      "cell_type": "markdown",
      "metadata": {
        "id": "view-in-github",
        "colab_type": "text"
      },
      "source": [
        "<a href=\"https://colab.research.google.com/github/marbahi/Samsung-Inovation-Campus---Batch-7/blob/main/Function_%26_Reusability.ipynb\" target=\"_parent\"><img src=\"https://colab.research.google.com/assets/colab-badge.svg\" alt=\"Open In Colab\"/></a>"
      ]
    },
    {
      "cell_type": "markdown",
      "source": [
        "# **Muhammad 'Ammar Bahi**\n",
        "\n",
        "UPN \"Veteran\" Jakarta\n",
        "\n",
        "Veteran Code"
      ],
      "metadata": {
        "id": "-nniQEljyzk9"
      }
    },
    {
      "cell_type": "markdown",
      "source": [
        "Step First: Turn On the virtual CPU from Google Colab"
      ],
      "metadata": {
        "id": "AhZUAqkzBrc8"
      }
    },
    {
      "cell_type": "markdown",
      "source": [
        "Step Two: Download the utils.ipynb file, with code below"
      ],
      "metadata": {
        "id": "WiARliymLbOF"
      }
    },
    {
      "cell_type": "code",
      "source": [
        "!wget -O utils.py https://raw.githubusercontent.com/marbahi/Samsung-Inovation-Campus---Batch-7/main/Student%20Session%205/utils.py"
      ],
      "metadata": {
        "colab": {
          "base_uri": "https://localhost:8080/"
        },
        "collapsed": true,
        "id": "5bteP3yPGj8L",
        "outputId": "87a965a1-780d-4d9e-b534-c23bb60cd0a9"
      },
      "execution_count": null,
      "outputs": [
        {
          "output_type": "stream",
          "name": "stdout",
          "text": [
            "--2025-09-04 19:31:43--  https://raw.githubusercontent.com/marbahi/Samsung-Inovation-Campus---Batch-7/main/Student%20Session%205/utils.py\n",
            "Resolving raw.githubusercontent.com (raw.githubusercontent.com)... 185.199.108.133, 185.199.110.133, 185.199.109.133, ...\n",
            "Connecting to raw.githubusercontent.com (raw.githubusercontent.com)|185.199.108.133|:443... connected.\n",
            "HTTP request sent, awaiting response... 200 OK\n",
            "Length: 753 [text/plain]\n",
            "Saving to: ‘utils.py’\n",
            "\n",
            "\rutils.py              0%[                    ]       0  --.-KB/s               \rutils.py            100%[===================>]     753  --.-KB/s    in 0s      \n",
            "\n",
            "2025-09-04 19:31:43 (55.9 MB/s) - ‘utils.py’ saved [753/753]\n",
            "\n"
          ]
        }
      ]
    },
    {
      "cell_type": "markdown",
      "source": [
        "Step Three: Run the main code"
      ],
      "metadata": {
        "id": "GPLChbWTLhMS"
      }
    },
    {
      "cell_type": "code",
      "source": [
        "from utils import (konversi_suhu)\n",
        "\n",
        "nilai_suhu = 0\n",
        "dari_suhu = \"\"\n",
        "ke_suhu = \"\"\n",
        "hasil_suhu = 0\n",
        "\n",
        "while True:\n",
        "  print(\"=== KONVERSI SUHU ===\")\n",
        "  nilai_suhu = float(input(\"Masukkan nilai suhu: \"))\n",
        "  dari_suhu = input(\"Dari Satuan (C/F/K): \")\n",
        "  ke_suhu = input(\"Menjadi Satuan (C/F/K): \")\n",
        "\n",
        "  hasil_suhu = round(konversi_suhu(nilai_suhu, dari_suhu, ke_suhu))\n",
        "  print(f'Hasil: {nilai_suhu}°{dari_suhu} = {hasil_suhu}°{ke_suhu}')\n",
        "\n",
        "  ulang = input(\"Apakah ingin mengkonversi lagi? (ya/tidak)\")\n",
        "  if ulang != \"ya\":\n",
        "    print(\"Program selesai. Terimakasih\")\n",
        "    break"
      ],
      "metadata": {
        "colab": {
          "base_uri": "https://localhost:8080/"
        },
        "id": "oln6iZyvJcTp",
        "outputId": "c70821b3-f960-4e68-8f5d-8de68c492840"
      },
      "execution_count": null,
      "outputs": [
        {
          "output_type": "stream",
          "name": "stdout",
          "text": [
            "=== KONVERSI SUHU ===\n",
            "Masukkan nilai suhu: 32\n",
            "Dari Satuan (C/F/K): C\n",
            "Menjadi Satuan (C/F/K): K\n",
            "Hasil: 32.0°C = 305°K\n",
            "Apakah ingin mengkonversi lagi? (ya/tidak)tidak\n",
            "Program selesai. Terimakasih\n"
          ]
        }
      ]
    }
  ]
}